{
 "cells": [
  {
   "cell_type": "markdown",
   "metadata": {},
   "source": [
    "# FDA1_Irish Data Set Analysis"
   ]
  },
  {
   "cell_type": "markdown",
   "metadata": {},
   "source": [
    "--------------------"
   ]
  },
  {
   "cell_type": "markdown",
   "metadata": {},
   "source": [
    "### Table of Contents\n",
    "1. About\n",
    "2. Importing the Iris Data Set and Matplotlib\n",
    "3. Plotting Sepal Length as xxxx\n",
    "4. Plotting Sepal Width as xxxx\n",
    "5. Plotting Petal Length as xxxx\n",
    "6. Plotting Petal Width as xxxx\n",
    "7. Conclusion\n",
    "8. References "
   ]
  },
  {
   "cell_type": "markdown",
   "metadata": {},
   "source": [
    "--------------------------------"
   ]
  },
  {
   "cell_type": "markdown",
   "metadata": {},
   "source": [
    "### 1. About\n",
    "\n",
    "This project acheives the following;\n",
    "\n",
    "- Imports the Iris Data Set\n",
    "- Classifies the data within each variable (a) Sepal Length, (b) Sepal Width, (c) Petal Length and (d) Petal Width\n",
    "- Plots Sepal Length as xxx \n",
    "- Plots Sepal Width as xxx\n",
    "- Plots Petal Length as xxx\n",
    "- Plots Petal Width as xxx\n"
   ]
  },
  {
   "cell_type": "markdown",
   "metadata": {},
   "source": [
    "---------------------------"
   ]
  },
  {
   "cell_type": "markdown",
   "metadata": {},
   "source": [
    "### 2. Importing the Iris Data Set and Matplotlib\n",
    "\n",
    "First install pandas using the following code:"
   ]
  },
  {
   "cell_type": "code",
   "execution_count": null,
   "metadata": {},
   "outputs": [],
   "source": [
    "pip install pandas"
   ]
  },
  {
   "cell_type": "markdown",
   "metadata": {},
   "source": [
    "-----------"
   ]
  }
 ],
 "metadata": {
  "kernelspec": {
   "display_name": "Python 3",
   "language": "python",
   "name": "python3"
  },
  "language_info": {
   "name": "python",
   "version": "3.11.7"
  }
 },
 "nbformat": 4,
 "nbformat_minor": 2
}
